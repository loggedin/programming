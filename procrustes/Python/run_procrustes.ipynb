{
 "cells": [
  {
   "cell_type": "code",
   "execution_count": 1,
   "metadata": {},
   "outputs": [],
   "source": [
    "from procrustes import Procrustes\n",
    "import numpy as np "
   ]
  },
  {
   "cell_type": "code",
   "execution_count": 2,
   "metadata": {},
   "outputs": [],
   "source": [
    "SEED = 255\n",
    "n = 10\n",
    "p = 2\n",
    "T = 20 \n",
    "rng = np.random.default_rng(seed=SEED)\n",
    "std = 0.01\n",
    "X0 = rng.uniform(low=-1,high=1,size=(n,p)) #create random design matrix\n",
    "# Create noisy rotated versions of X0 \n",
    "data = [] \n",
    "for i in range(T): \n",
    "    #create ground truth transformation matrix\n",
    "    R_true, other = np.linalg.qr(rng.normal(0, 1, (p, p))) \n",
    "    X = X0@R_true \n",
    "    noise = rng.normal(loc=0,scale=std,size=(n,p)) # add iid gaussian noise \n",
    "    X += noise \n",
    "    data.append(X) "
   ]
  },
  {
   "cell_type": "code",
   "execution_count": 3,
   "metadata": {},
   "outputs": [],
   "source": [
    "proc = Procrustes(X_ref = X0)"
   ]
  },
  {
   "cell_type": "code",
   "execution_count": 4,
   "metadata": {},
   "outputs": [],
   "source": [
    "# Update proc.Y_bar sequentially for each element in data\n",
    "for element in data:\n",
    "    proc.update_Y_bar(element)"
   ]
  },
  {
   "cell_type": "code",
   "execution_count": 5,
   "metadata": {},
   "outputs": [
    {
     "name": "stdout",
     "output_type": "stream",
     "text": [
      "21\n"
     ]
    }
   ],
   "source": [
    "# Check that proc.t = 21 after all updates have been implemented\n",
    "print(proc.t)"
   ]
  },
  {
   "cell_type": "code",
   "execution_count": 6,
   "metadata": {},
   "outputs": [
    {
     "name": "stdout",
     "output_type": "stream",
     "text": [
      "When rho = 0.1, X_ref has not changed\n"
     ]
    }
   ],
   "source": [
    "# Save the current value of proc.X_ref\n",
    "X_ref_current = proc.X_ref\n",
    "# Call proc.update_reference with rho = 0.1 and save the new value of proc.X_ref\n",
    "proc.update_reference(0.1)\n",
    "X_ref_new1 = proc.X_ref\n",
    "\n",
    "# Confirm that X_ref has not changed\n",
    "if (X_ref_new1 == X_ref_current).all():\n",
    "    print(\"When rho = 0.1, X_ref has not changed\")"
   ]
  },
  {
   "cell_type": "code",
   "execution_count": 7,
   "metadata": {},
   "outputs": [
    {
     "name": "stdout",
     "output_type": "stream",
     "text": [
      "When rho = 0.001, X_ref has changed\n"
     ]
    }
   ],
   "source": [
    "# Call proc.update_reference with rho = 0.001 and save the new value of proc.X_ref\n",
    "proc.update_reference(0.001)\n",
    "X_ref_new2 = proc.X_ref\n",
    "\n",
    "# Confirm that X_ref has changed\n",
    "if (X_ref_new2 != X_ref_current).any():\n",
    "    print(\"When rho = 0.001, X_ref has changed\")"
   ]
  },
  {
   "cell_type": "code",
   "execution_count": null,
   "metadata": {},
   "outputs": [],
   "source": []
  }
 ],
 "metadata": {
  "kernelspec": {
   "display_name": "Python 3 (ipykernel)",
   "language": "python",
   "name": "python3"
  },
  "language_info": {
   "codemirror_mode": {
    "name": "ipython",
    "version": 3
   },
   "file_extension": ".py",
   "mimetype": "text/x-python",
   "name": "python",
   "nbconvert_exporter": "python",
   "pygments_lexer": "ipython3",
   "version": "3.12.0"
  }
 },
 "nbformat": 4,
 "nbformat_minor": 4
}
